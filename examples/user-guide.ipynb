{
 "cells": [
  {
   "cell_type": "markdown",
   "metadata": {},
   "source": [
    "# Introduction\n",
    "\n",
    "The Bureau of Economic Analysis (BEA) publishes economic statistics in a variety of formats. This document describes the BEA Data Retrieval Application Programming Interface (API) – including detailed instructions for retrieving data and meta-data published by BEA using the pyBEA package. \n",
    "\n",
    "The pyBEA pacakge provides a simple interface to the BEA API and includes methods for retrieving a subset of BEA statistical data, including any meta-data describing it, and loading the results into a Pandas DataFrame object for further analysis.\n",
    "\n",
    "## Data Return Format\n",
    "The BEA API returns data in one of two formats: JSON or XML (with JSON being the default). Currently the pyBEA package only supports JSON requests.\n"
   ]
  },
  {
   "cell_type": "code",
   "execution_count": null,
   "metadata": {},
   "outputs": [],
   "source": [
    "import pybea"
   ]
  },
  {
   "cell_type": "markdown",
   "metadata": {},
   "source": [
    "## Meta-Data API Methods\n",
    "\n",
    "The BEA API contains three methods for retrieving meta-data as follows:\n",
    "\n",
    "1. `GetDataSetList`: retrieves a list of the datasets currently offered.\n",
    "2. `GetParameterList`: retrieves a list of the parameters (required and optional) for a particular dataset.\n",
    "3. `GetParameterValues`: retrieves a list of the valid values for a particular parameter.\n",
    "\n",
    "Each of these methods has a corresponding function in the `pybea` package."
   ]
  },
  {
   "cell_type": "code",
   "execution_count": null,
   "metadata": {},
   "outputs": [],
   "source": [
    "pybea.get_data_set_list?"
   ]
  },
  {
   "cell_type": "code",
   "execution_count": null,
   "metadata": {},
   "outputs": [],
   "source": [
    "pybea.get_parameter_list?"
   ]
  },
  {
   "cell_type": "code",
   "execution_count": null,
   "metadata": {},
   "outputs": [],
   "source": [
    "pybea.get_parameter_values?"
   ]
  },
  {
   "cell_type": "markdown",
   "metadata": {},
   "source": [
    "## Example Usage"
   ]
  },
  {
   "cell_type": "code",
   "execution_count": null,
   "metadata": {},
   "outputs": [],
   "source": [
    "# replace this with your BEA data API key!\n",
    "USER_ID = ???"
   ]
  },
  {
   "cell_type": "code",
   "execution_count": null,
   "metadata": {},
   "outputs": [],
   "source": [
    "# access the BEA data API...\n",
    "available_datasets = pybea.get_data_set_list(USER_ID)\n",
    "available_datasets"
   ]
  },
  {
   "cell_type": "code",
   "execution_count": null,
   "metadata": {},
   "outputs": [],
   "source": [
    "request = pybea.api.DataSetListRequest(USER_ID,\n",
    "                                       ResultFormat=\"JSON\")\n",
    "request.data_set_list"
   ]
  },
  {
   "cell_type": "code",
   "execution_count": null,
   "metadata": {},
   "outputs": [],
   "source": [
    "regional_income_params = pybea.get_parameter_list(USER_ID,\n",
    "                                                  DataSetName='RegionalIncome',\n",
    "                                                  ResultFormat=\"XML\")\n",
    "regional_income_params"
   ]
  },
  {
   "cell_type": "code",
   "execution_count": null,
   "metadata": {},
   "outputs": [],
   "source": [
    "request = pybea.api.ParameterListRequest(USER_ID,\n",
    "                                         DataSetName='RegionalIncome',\n",
    "                                         ResultFormat=\"JSON\")\n",
    "request.parameter_list"
   ]
  },
  {
   "cell_type": "code",
   "execution_count": null,
   "metadata": {},
   "outputs": [],
   "source": [
    "regional_income_geofips = pybea.get_parameter_values(USER_ID,\n",
    "                                                     DataSetName='RegionalIncome',\n",
    "                                                     ParameterName='GeoFips')\n",
    "regional_income_geofips"
   ]
  },
  {
   "cell_type": "code",
   "execution_count": null,
   "metadata": {},
   "outputs": [],
   "source": [
    "request = pybea.api.ParameterValuesRequest(USER_ID,\n",
    "                                           DataSetName='RegionalIncome',\n",
    "                                           ParameterName='GeoFips')\n",
    "request.parameter_values"
   ]
  },
  {
   "cell_type": "markdown",
   "metadata": {},
   "source": [
    "## Data Retrieval API Method\n",
    "\n",
    "The BEA API has one method for retrieving data: `GetData`. This method has its own function in the `pybea` package. "
   ]
  },
  {
   "cell_type": "code",
   "execution_count": null,
   "metadata": {},
   "outputs": [],
   "source": [
    "pybea.get_data?"
   ]
  },
  {
   "cell_type": "markdown",
   "metadata": {},
   "source": [
    "# NIPA (National Income and Product Accounts)\n",
    "\n",
    "This dataset contains data from the National Income and Product Accounts which include measures of the value and composition of U.S.production and the incomes generated in producing it. NIPA data is provided on a table basis; individual tables contain between fewer than 10 to more than 200 distinct data series.\n",
    "\n",
    "## Example Usage\n",
    "\n",
    "Percent change in Real Gross Domestic Product, Annually and Quarterly for all years."
   ]
  },
  {
   "cell_type": "code",
   "execution_count": null,
   "metadata": {},
   "outputs": [],
   "source": [
    "data = pybea.get_data(USER_ID,\n",
    "                      DataSetName='NIPA',\n",
    "                      TableName='T10101',\n",
    "                      Frequency=['A', 'Q'],\n",
    "                      Year='ALL',\n",
    "                      ResultFormat=\"XML\"\n",
    "                      )"
   ]
  },
  {
   "cell_type": "code",
   "execution_count": null,
   "metadata": {},
   "outputs": [],
   "source": [
    "data.head()"
   ]
  },
  {
   "cell_type": "code",
   "execution_count": null,
   "metadata": {},
   "outputs": [],
   "source": [
    "data.tail()"
   ]
  },
  {
   "cell_type": "markdown",
   "metadata": {},
   "source": [
    "## Example Usage\n",
    "\n",
    "Personal Income, Monthly, for 2015 and 2016."
   ]
  },
  {
   "cell_type": "code",
   "execution_count": null,
   "metadata": {},
   "outputs": [],
   "source": [
    "request = pybea.api.NIPARequest(USER_ID,\n",
    "                                TableName='T20600',\n",
    "                                Frequency='M',\n",
    "                                Year=['2015', '2016'],\n",
    "                                ResultFormat='JSON')"
   ]
  },
  {
   "cell_type": "code",
   "execution_count": null,
   "metadata": {},
   "outputs": [],
   "source": [
    "request.data.head()"
   ]
  },
  {
   "cell_type": "code",
   "execution_count": null,
   "metadata": {},
   "outputs": [],
   "source": [
    "data.tail()"
   ]
  },
  {
   "cell_type": "markdown",
   "metadata": {},
   "source": [
    "# NIUnderlyingDetail (National Income and Product Accounts)\n",
    "\n",
    "The DataSetName is NIUnderlyingDetail. This dataset contains underlying detail data from the National Income and Product Accounts which include measures of the value and composition of U.S.production and the incomes generated in producing it. NIPA Underlying Detail data is provided on a table basis; individual tables contain between fewer than 10 to more than 200 distinct data series.\n",
    "\n",
    "## Example Usage\n",
    "\n",
    "Personal Consumption Expenditures, Current Dollars, Annually, Quarterly and Monthly for all years."
   ]
  },
  {
   "cell_type": "code",
   "execution_count": null,
   "metadata": {},
   "outputs": [],
   "source": [
    "data = pybea.get_data(USER_ID,\n",
    "                      DataSetName='NIUnderlyingDetail',\n",
    "                      TableName='U20305',\n",
    "                      Frequency=['A', 'Q'],\n",
    "                      Year='ALL',\n",
    "                      ResultFormat='XML')"
   ]
  },
  {
   "cell_type": "code",
   "execution_count": null,
   "metadata": {},
   "outputs": [],
   "source": [
    "data.head()"
   ]
  },
  {
   "cell_type": "code",
   "execution_count": null,
   "metadata": {},
   "outputs": [],
   "source": [
    "data.tail()"
   ]
  },
  {
   "cell_type": "markdown",
   "metadata": {},
   "source": [
    "## Example Usage\n",
    "\n",
    "Auto and Truck Unit Sales, Production, Inventories, Expenditures and Price, Monthly, for 2015 and 2016"
   ]
  },
  {
   "cell_type": "code",
   "execution_count": null,
   "metadata": {},
   "outputs": [],
   "source": [
    "request = pybea.api.NIUnderlyingDetailRequest(USER_ID,\n",
    "                                              TableName='U70205S',\n",
    "                                              Frequency='M',\n",
    "                                              Year=['2015', '2016'],\n",
    "                                              ResultFormat='JSON')"
   ]
  },
  {
   "cell_type": "code",
   "execution_count": null,
   "metadata": {},
   "outputs": [],
   "source": [
    "request.data.head()"
   ]
  },
  {
   "cell_type": "code",
   "execution_count": null,
   "metadata": {},
   "outputs": [],
   "source": [
    "request.data.tail()"
   ]
  },
  {
   "cell_type": "markdown",
   "metadata": {},
   "source": [
    "# Fixed Assets\n",
    "\n",
    "The FixedAssets dataset contains data from the standard set of Fixed Assets tables as published online."
   ]
  },
  {
   "cell_type": "code",
   "execution_count": null,
   "metadata": {},
   "outputs": [],
   "source": [
    "data = pybea.get_data(USER_ID,\n",
    "                      DataSetName='FixedAssets',\n",
    "                      TableID='16',\n",
    "                      Year='2012',\n",
    "                      ResultFormat='XML')"
   ]
  },
  {
   "cell_type": "code",
   "execution_count": null,
   "metadata": {},
   "outputs": [],
   "source": [
    "data.head()"
   ]
  },
  {
   "cell_type": "code",
   "execution_count": null,
   "metadata": {},
   "outputs": [],
   "source": [
    "data.tail()"
   ]
  },
  {
   "cell_type": "markdown",
   "metadata": {},
   "source": [
    "# ITA (International Transactions)\n",
    "\n",
    "This dataset contains data on U.S. international transactions. BEA's international transactions (balance of payments) accounts include all transactions between U.S. and foreign residents.\n",
    "\n",
    "## Example Usage\n",
    "\n",
    "Balance on goods with China for 2011 and 2012."
   ]
  },
  {
   "cell_type": "code",
   "execution_count": null,
   "metadata": {},
   "outputs": [],
   "source": [
    "data = pybea.get_data(USER_ID,\n",
    "                      DataSetName='ITA',\n",
    "                      Indicator='BalGds',\n",
    "                      AreaOrCountry='China',\n",
    "                      Frequency='A',\n",
    "                      Year=['2011', '2012'],\n",
    "                      ResultFormat='XML')"
   ]
  },
  {
   "cell_type": "code",
   "execution_count": null,
   "metadata": {},
   "outputs": [],
   "source": [
    "data.head()"
   ]
  },
  {
   "cell_type": "markdown",
   "metadata": {},
   "source": [
    "## Example Usage\n",
    "\n",
    "Net U.S. acquisition of portfolio investment assets (quarterly not seasonally adjusted) for 2013."
   ]
  },
  {
   "cell_type": "code",
   "execution_count": null,
   "metadata": {},
   "outputs": [],
   "source": [
    "data = pybea.get_data(USER_ID,\n",
    "                      DataSetName='ITA',\n",
    "                      Indicator='PfInvAssets',\n",
    "                      AreaOrCountry='AllCountries',\n",
    "                      Frequency='QNSA',\n",
    "                      Year='2013',\n",
    "                      ResultFormat='XML')"
   ]
  },
  {
   "cell_type": "code",
   "execution_count": null,
   "metadata": {},
   "outputs": [],
   "source": [
    "data.head()"
   ]
  },
  {
   "cell_type": "markdown",
   "metadata": {},
   "source": [
    "# RegionalIncome\n",
    "\n",
    "## Example Usage\n",
    "\n",
    "Fetch data on personal income for 2012 and 2013 for all counties, in JSON format"
   ]
  },
  {
   "cell_type": "code",
   "execution_count": null,
   "metadata": {},
   "outputs": [],
   "source": [
    "data = pybea.get_data(USER_ID,\n",
    "                      DataSetName='RegionalIncome',\n",
    "                      TableName='CA1',\n",
    "                      LineCode=1,\n",
    "                      GeoFips='COUNTY',\n",
    "                      Year=['2012', '2013'],\n",
    "                      ResultFormat='JSON')"
   ]
  },
  {
   "cell_type": "code",
   "execution_count": null,
   "metadata": {},
   "outputs": [],
   "source": [
    "data.head()"
   ]
  },
  {
   "cell_type": "code",
   "execution_count": null,
   "metadata": {},
   "outputs": [],
   "source": [
    "data.tail()"
   ]
  },
  {
   "cell_type": "markdown",
   "metadata": {},
   "source": [
    "# RegionalProduct\n",
    "\n",
    "## Example Usage\n",
    "\n",
    "Real GDP for all years for all MSAs, in JSON format"
   ]
  },
  {
   "cell_type": "code",
   "execution_count": null,
   "metadata": {},
   "outputs": [],
   "source": [
    "data = pybea.get_data(USER_ID,\n",
    "                      DataSetName='RegionalProduct',\n",
    "                      Component=\"RGDP_MAN\",\n",
    "                      IndustryId=1,\n",
    "                      GeoFips=\"MSA\",\n",
    "                      Year=\"ALL\",\n",
    "                      ResultFormat='XML')"
   ]
  },
  {
   "cell_type": "code",
   "execution_count": null,
   "metadata": {},
   "outputs": [],
   "source": [
    "data.head()"
   ]
  },
  {
   "cell_type": "code",
   "execution_count": null,
   "metadata": {},
   "outputs": [],
   "source": [
    "data.tail()"
   ]
  },
  {
   "cell_type": "markdown",
   "metadata": {},
   "source": [
    "## Example Usage\n",
    "\n",
    "GDP for 2012 and 2013 for selected Southeast states, for the Retail Trade industry."
   ]
  },
  {
   "cell_type": "code",
   "execution_count": null,
   "metadata": {},
   "outputs": [],
   "source": [
    "southeast_states = [\"01000\", \"05000\", \"12000\", \"13000\", \"21000\", \"22000\", \n",
    "                    \"28000\", \"37000\", \"45000\", \"47000\", \"51000\", \"54000\"]\n",
    "data = pybea.get_data(USER_ID,\n",
    "                      DataSetName='RegionalProduct',\n",
    "                      Component=\"GDP_sAN\",\n",
    "                      IndustryId=35,\n",
    "                      GeoFips=southeast_states,\n",
    "                      Year=[\"2013\", \"2013\"],\n",
    "                      ResultFormat='XML')"
   ]
  },
  {
   "cell_type": "code",
   "execution_count": null,
   "metadata": {},
   "outputs": [],
   "source": [
    "data.head()"
   ]
  },
  {
   "cell_type": "code",
   "execution_count": null,
   "metadata": {},
   "outputs": [],
   "source": [
    "data.tail()"
   ]
  },
  {
   "cell_type": "markdown",
   "metadata": {},
   "source": [
    "# InputOutput\n",
    "\n",
    "The Input-Output Statistics are contained within a dataset called InputOutput. BEA's industry accounts are used extensively by policymakers and businesses to understand industry interactions, productivity trends, and the changing structure of the U.S. economy. The input-output accounts provide a detailed view of the interrelationships between U.S. producers and users. \n",
    "\n",
    "## Example Usage\n",
    "\n",
    "Data from The Use of Commodities by Industries, Before Redefinitions (Producer’s Prices) sector level table for years 2010, 2011, and 2012."
   ]
  },
  {
   "cell_type": "code",
   "execution_count": null,
   "metadata": {},
   "outputs": [],
   "source": [
    "data = pybea.get_data(USER_ID,\n",
    "                      DataSetName='InputOutput',\n",
    "                      TableID=2,\n",
    "                      Year=['2010', '2011', '2012', '2013'],\n",
    "                      ResultFormat='JSON')"
   ]
  },
  {
   "cell_type": "code",
   "execution_count": null,
   "metadata": {},
   "outputs": [],
   "source": [
    "data.head()"
   ]
  },
  {
   "cell_type": "code",
   "execution_count": null,
   "metadata": {},
   "outputs": [],
   "source": [
    "data.tail()"
   ]
  },
  {
   "cell_type": "markdown",
   "metadata": {},
   "source": [
    "## Example Usage\n",
    "\n",
    "Data for 2007 from The Make of Commodities by Industries, Before Redefinitions sector and summary level tables."
   ]
  },
  {
   "cell_type": "code",
   "execution_count": null,
   "metadata": {},
   "outputs": [],
   "source": [
    "data = pybea.get_data(USER_ID,\n",
    "                      DataSetName='InputOutput',\n",
    "                      TableID=[46, 47],\n",
    "                      Year='2007',\n",
    "                      ResultFormat='JSON')"
   ]
  },
  {
   "cell_type": "code",
   "execution_count": null,
   "metadata": {},
   "outputs": [],
   "source": [
    "data.head()"
   ]
  },
  {
   "cell_type": "code",
   "execution_count": null,
   "metadata": {},
   "outputs": [],
   "source": [
    "data.tail()"
   ]
  },
  {
   "cell_type": "code",
   "execution_count": null,
   "metadata": {},
   "outputs": [],
   "source": []
  }
 ],
 "metadata": {
  "kernelspec": {
   "display_name": "Python 3",
   "language": "python",
   "name": "python3"
  },
  "language_info": {
   "codemirror_mode": {
    "name": "ipython",
    "version": 3
   },
   "file_extension": ".py",
   "mimetype": "text/x-python",
   "name": "python",
   "nbconvert_exporter": "python",
   "pygments_lexer": "ipython3",
   "version": "3.7.7"
  }
 },
 "nbformat": 4,
 "nbformat_minor": 1
}
